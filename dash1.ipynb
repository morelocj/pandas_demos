{
 "cells": [
  {
   "cell_type": "code",
   "execution_count": 1,
   "metadata": {},
   "outputs": [],
   "source": [
    "import pandas as pd\n",
    "import plotly.express as px\n",
    "import plotly.graph_objects as go\n",
    "from dash import Dash, dcc, html, Input, Output"
   ]
  },
  {
   "cell_type": "code",
   "execution_count": null,
   "metadata": {},
   "outputs": [],
   "source": [
    "df=pd.read_csv(\"household_median_income_2017.csv\")\n",
    "df.dtypes"
   ]
  },
  {
   "cell_type": "code",
   "execution_count": 3,
   "metadata": {},
   "outputs": [
    {
     "data": {
      "text/plain": [
       "dtype('O')"
      ]
     },
     "execution_count": 3,
     "metadata": {},
     "output_type": "execute_result"
    }
   ],
   "source": [
    "df.columns.dtype"
   ]
  },
  {
   "cell_type": "code",
   "execution_count": 5,
   "metadata": {},
   "outputs": [
    {
     "data": {
      "text/html": [
       "<div>\n",
       "<style scoped>\n",
       "    .dataframe tbody tr th:only-of-type {\n",
       "        vertical-align: middle;\n",
       "    }\n",
       "\n",
       "    .dataframe tbody tr th {\n",
       "        vertical-align: top;\n",
       "    }\n",
       "\n",
       "    .dataframe thead th {\n",
       "        text-align: right;\n",
       "    }\n",
       "</style>\n",
       "<table border=\"1\" class=\"dataframe\">\n",
       "  <thead>\n",
       "    <tr style=\"text-align: right;\">\n",
       "      <th></th>\n",
       "      <th>State</th>\n",
       "      <th>2017</th>\n",
       "      <th>2016</th>\n",
       "      <th>2015</th>\n",
       "      <th>2014</th>\n",
       "    </tr>\n",
       "  </thead>\n",
       "  <tbody>\n",
       "    <tr>\n",
       "      <th>0</th>\n",
       "      <td>United States</td>\n",
       "      <td>61,372</td>\n",
       "      <td>60,309</td>\n",
       "      <td>58,476</td>\n",
       "      <td>55,613</td>\n",
       "    </tr>\n",
       "    <tr>\n",
       "      <th>1</th>\n",
       "      <td>AL</td>\n",
       "      <td>51,113</td>\n",
       "      <td>48,237</td>\n",
       "      <td>46,053</td>\n",
       "      <td>43,820</td>\n",
       "    </tr>\n",
       "    <tr>\n",
       "      <th>2</th>\n",
       "      <td>AK</td>\n",
       "      <td>72,231</td>\n",
       "      <td>77,351</td>\n",
       "      <td>77,717</td>\n",
       "      <td>70,095</td>\n",
       "    </tr>\n",
       "    <tr>\n",
       "      <th>3</th>\n",
       "      <td>AZ</td>\n",
       "      <td>61,125</td>\n",
       "      <td>58,328</td>\n",
       "      <td>54,060</td>\n",
       "      <td>51,050</td>\n",
       "    </tr>\n",
       "    <tr>\n",
       "      <th>4</th>\n",
       "      <td>AR</td>\n",
       "      <td>48,829</td>\n",
       "      <td>46,894</td>\n",
       "      <td>44,282</td>\n",
       "      <td>46,560</td>\n",
       "    </tr>\n",
       "  </tbody>\n",
       "</table>\n",
       "</div>"
      ],
      "text/plain": [
       "           State    2017    2016    2015    2014\n",
       "0  United States  61,372  60,309  58,476  55,613\n",
       "1             AL  51,113  48,237  46,053  43,820\n",
       "2             AK  72,231  77,351  77,717  70,095\n",
       "3             AZ  61,125  58,328  54,060  51,050\n",
       "4             AR  48,829  46,894  44,282  46,560"
      ]
     },
     "execution_count": 5,
     "metadata": {},
     "output_type": "execute_result"
    }
   ],
   "source": [
    "df_new=df[['State','2017','2016','2015','2014']]\n",
    "df_new.head()"
   ]
  },
  {
   "cell_type": "code",
   "execution_count": null,
   "metadata": {},
   "outputs": [],
   "source": [
    "df_new['2017'] = df_new['2017'].str.replace(',','')\n",
    "df_new['2017'] = df_new['2017'].astype(int)\n"
   ]
  },
  {
   "cell_type": "code",
   "execution_count": 16,
   "metadata": {},
   "outputs": [
    {
     "data": {
      "text/html": [
       "<div>\n",
       "<style scoped>\n",
       "    .dataframe tbody tr th:only-of-type {\n",
       "        vertical-align: middle;\n",
       "    }\n",
       "\n",
       "    .dataframe tbody tr th {\n",
       "        vertical-align: top;\n",
       "    }\n",
       "\n",
       "    .dataframe thead th {\n",
       "        text-align: right;\n",
       "    }\n",
       "</style>\n",
       "<table border=\"1\" class=\"dataframe\">\n",
       "  <thead>\n",
       "    <tr style=\"text-align: right;\">\n",
       "      <th></th>\n",
       "      <th>State</th>\n",
       "      <th>2017</th>\n",
       "      <th>2016</th>\n",
       "      <th>2015</th>\n",
       "      <th>2014</th>\n",
       "    </tr>\n",
       "  </thead>\n",
       "  <tbody>\n",
       "    <tr>\n",
       "      <th>0</th>\n",
       "      <td>United States</td>\n",
       "      <td>61372</td>\n",
       "      <td>60,309</td>\n",
       "      <td>58,476</td>\n",
       "      <td>55,613</td>\n",
       "    </tr>\n",
       "    <tr>\n",
       "      <th>1</th>\n",
       "      <td>AL</td>\n",
       "      <td>51113</td>\n",
       "      <td>48,237</td>\n",
       "      <td>46,053</td>\n",
       "      <td>43,820</td>\n",
       "    </tr>\n",
       "    <tr>\n",
       "      <th>2</th>\n",
       "      <td>AK</td>\n",
       "      <td>72231</td>\n",
       "      <td>77,351</td>\n",
       "      <td>77,717</td>\n",
       "      <td>70,095</td>\n",
       "    </tr>\n",
       "    <tr>\n",
       "      <th>3</th>\n",
       "      <td>AZ</td>\n",
       "      <td>61125</td>\n",
       "      <td>58,328</td>\n",
       "      <td>54,060</td>\n",
       "      <td>51,050</td>\n",
       "    </tr>\n",
       "    <tr>\n",
       "      <th>4</th>\n",
       "      <td>AR</td>\n",
       "      <td>48829</td>\n",
       "      <td>46,894</td>\n",
       "      <td>44,282</td>\n",
       "      <td>46,560</td>\n",
       "    </tr>\n",
       "  </tbody>\n",
       "</table>\n",
       "</div>"
      ],
      "text/plain": [
       "           State   2017    2016    2015    2014\n",
       "0  United States  61372  60,309  58,476  55,613\n",
       "1             AL  51113  48,237  46,053  43,820\n",
       "2             AK  72231  77,351  77,717  70,095\n",
       "3             AZ  61125  58,328  54,060  51,050\n",
       "4             AR  48829  46,894  44,282  46,560"
      ]
     },
     "execution_count": 16,
     "metadata": {},
     "output_type": "execute_result"
    }
   ],
   "source": [
    "df_new.head()"
   ]
  },
  {
   "cell_type": "code",
   "execution_count": 17,
   "metadata": {},
   "outputs": [],
   "source": [
    "#dropping the first unnecessary row\n",
    "df_new=df_new.drop(labels=0,axis=0)"
   ]
  },
  {
   "cell_type": "code",
   "execution_count": 18,
   "metadata": {},
   "outputs": [
    {
     "data": {
      "text/html": [
       "<div>\n",
       "<style scoped>\n",
       "    .dataframe tbody tr th:only-of-type {\n",
       "        vertical-align: middle;\n",
       "    }\n",
       "\n",
       "    .dataframe tbody tr th {\n",
       "        vertical-align: top;\n",
       "    }\n",
       "\n",
       "    .dataframe thead th {\n",
       "        text-align: right;\n",
       "    }\n",
       "</style>\n",
       "<table border=\"1\" class=\"dataframe\">\n",
       "  <thead>\n",
       "    <tr style=\"text-align: right;\">\n",
       "      <th></th>\n",
       "      <th>State</th>\n",
       "      <th>2017</th>\n",
       "      <th>2016</th>\n",
       "      <th>2015</th>\n",
       "      <th>2014</th>\n",
       "    </tr>\n",
       "  </thead>\n",
       "  <tbody>\n",
       "    <tr>\n",
       "      <th>1</th>\n",
       "      <td>AL</td>\n",
       "      <td>51113</td>\n",
       "      <td>48,237</td>\n",
       "      <td>46,053</td>\n",
       "      <td>43,820</td>\n",
       "    </tr>\n",
       "    <tr>\n",
       "      <th>2</th>\n",
       "      <td>AK</td>\n",
       "      <td>72231</td>\n",
       "      <td>77,351</td>\n",
       "      <td>77,717</td>\n",
       "      <td>70,095</td>\n",
       "    </tr>\n",
       "    <tr>\n",
       "      <th>3</th>\n",
       "      <td>AZ</td>\n",
       "      <td>61125</td>\n",
       "      <td>58,328</td>\n",
       "      <td>54,060</td>\n",
       "      <td>51,050</td>\n",
       "    </tr>\n",
       "    <tr>\n",
       "      <th>4</th>\n",
       "      <td>AR</td>\n",
       "      <td>48829</td>\n",
       "      <td>46,894</td>\n",
       "      <td>44,282</td>\n",
       "      <td>46,560</td>\n",
       "    </tr>\n",
       "    <tr>\n",
       "      <th>5</th>\n",
       "      <td>CA</td>\n",
       "      <td>69759</td>\n",
       "      <td>68,070</td>\n",
       "      <td>65,843</td>\n",
       "      <td>62,693</td>\n",
       "    </tr>\n",
       "  </tbody>\n",
       "</table>\n",
       "</div>"
      ],
      "text/plain": [
       "  State   2017    2016    2015    2014\n",
       "1    AL  51113  48,237  46,053  43,820\n",
       "2    AK  72231  77,351  77,717  70,095\n",
       "3    AZ  61125  58,328  54,060  51,050\n",
       "4    AR  48829  46,894  44,282  46,560\n",
       "5    CA  69759  68,070  65,843  62,693"
      ]
     },
     "execution_count": 18,
     "metadata": {},
     "output_type": "execute_result"
    }
   ],
   "source": [
    "df_new.head()"
   ]
  },
  {
   "cell_type": "code",
   "execution_count": null,
   "metadata": {},
   "outputs": [],
   "source": [
    "#we are going to make our app\n",
    "app = Dash(__name__)"
   ]
  },
  {
   "cell_type": "code",
   "execution_count": null,
   "metadata": {},
   "outputs": [],
   "source": [
    "#dash.Dash = the application\n",
    "#dash.dcc = interactive components\n",
    "#html = html\n",
    "\n",
    "#create the layout of the application\n",
    "app.layout = html.Div([\n",
    "    html.H1(\"Median Income 2014-2017 by State\"),\n",
    "    dcc.Dropdown(id='year_dropdown',\n",
    "                options=[\n",
    "                    {'labels':'2017','value':'2017'},\n",
    "                    {'labels':'2016','value':'2016'},\n",
    "                    {'labels':'2015','value':'2015'},\n",
    "                    {'labels':'2014','value':'2014'}],\n",
    "                multi=False,\n",
    "                value='2017',\n",
    "                style={'width':'40%'}\n",
    "                ),\n",
    "\n",
    "    dcc.Graph(id='map',figure={}) \n",
    "])\n",
    "if __name__ == '__main__':\n",
    "    app.run_server(debug=True)\n"
   ]
  }
 ],
 "metadata": {
  "kernelspec": {
   "display_name": "Python 3",
   "language": "python",
   "name": "python3"
  },
  "language_info": {
   "codemirror_mode": {
    "name": "ipython",
    "version": 3
   },
   "file_extension": ".py",
   "mimetype": "text/x-python",
   "name": "python",
   "nbconvert_exporter": "python",
   "pygments_lexer": "ipython3",
   "version": "3.11.0"
  },
  "orig_nbformat": 4,
  "vscode": {
   "interpreter": {
    "hash": "aefd69111f9c76c9ecd068af2a7d377a958ad2aaf2a9c23a14839e8171832a79"
   }
  }
 },
 "nbformat": 4,
 "nbformat_minor": 2
}
